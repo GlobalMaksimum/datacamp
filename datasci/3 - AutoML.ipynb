{
 "cells": [
  {
   "cell_type": "code",
   "execution_count": 1,
   "metadata": {},
   "outputs": [],
   "source": [
    "import h2o\n",
    "from h2o.automl import H2OAutoML\n",
    "import warnings\n",
    "import pandas as pd\n",
    "import numpy as np"
   ]
  },
  {
   "cell_type": "markdown",
   "metadata": {},
   "source": [
    "### Get Data"
   ]
  },
  {
   "cell_type": "code",
   "execution_count": 2,
   "metadata": {},
   "outputs": [],
   "source": [
    "train_df = pd.read_csv('../data/to2ml/train_round1.csv')"
   ]
  },
  {
   "cell_type": "code",
   "execution_count": 3,
   "metadata": {},
   "outputs": [],
   "source": [
    "test_df = pd.read_csv('../data/to2ml/test_round1.csv')"
   ]
  },
  {
   "cell_type": "code",
   "execution_count": 4,
   "metadata": {},
   "outputs": [],
   "source": [
    "features = list(train_df.columns.difference(['visitors']))"
   ]
  },
  {
   "cell_type": "code",
   "execution_count": 5,
   "metadata": {},
   "outputs": [],
   "source": [
    "test = test_df[features]"
   ]
  },
  {
   "cell_type": "code",
   "execution_count": 6,
   "metadata": {},
   "outputs": [],
   "source": [
    "train = train_df[features + ['visitors']]"
   ]
  },
  {
   "cell_type": "code",
   "execution_count": 30,
   "metadata": {},
   "outputs": [],
   "source": [
    "train.visitors = np.log1p(train.visitors)"
   ]
  },
  {
   "cell_type": "markdown",
   "metadata": {},
   "source": [
    "### Stacked Ensemble"
   ]
  },
  {
   "cell_type": "markdown",
   "metadata": {},
   "source": [
    "- Learning the weights for weighed averaging.\n",
    "- Linear combination of base model predictions.\n",
    "- Base learner predictions treated as features.\n",
    "- Hyper parameter tuning for all base level and second stage regressor. Time consuming.\n",
    "- Second model learns **“How predictions from the individual regressors contribute the ground truth?”**\n"
   ]
  },
  {
   "cell_type": "markdown",
   "metadata": {},
   "source": [
    "![title](images/stack1.png)"
   ]
  },
  {
   "cell_type": "markdown",
   "metadata": {},
   "source": [
    "## H2O: Open Source, Distributed Machine Learning for Everyone"
   ]
  },
  {
   "cell_type": "markdown",
   "metadata": {},
   "source": [
    "![title](images/h2o.png)"
   ]
  },
  {
   "cell_type": "code",
   "execution_count": 7,
   "metadata": {},
   "outputs": [
    {
     "name": "stdout",
     "output_type": "stream",
     "text": [
      "Checking whether there is an H2O instance running at http://localhost:54321..... not found.\n",
      "Attempting to start a local H2O server...\n",
      "  Java Version: openjdk version \"1.8.0_152-release\"; OpenJDK Runtime Environment (build 1.8.0_152-release-1056-b12); OpenJDK 64-Bit Server VM (build 25.152-b12, mixed mode)\n",
      "  Starting server from /home/dorukhan/anaconda2/envs/richmansworld/lib/python3.6/site-packages/h2o/backend/bin/h2o.jar\n",
      "  Ice root: /tmp/tmpqby2pznj\n",
      "  JVM stdout: /tmp/tmpqby2pznj/h2o_dorukhan_started_from_python.out\n",
      "  JVM stderr: /tmp/tmpqby2pznj/h2o_dorukhan_started_from_python.err\n",
      "  Server is running at http://127.0.0.1:54321\n",
      "Connecting to H2O server at http://127.0.0.1:54321... successful.\n",
      "Warning: Your H2O cluster version is too old (11 months and 6 days)! Please download and install the latest version from http://h2o.ai/download/\n"
     ]
    },
    {
     "data": {
      "text/html": [
       "<div style=\"overflow:auto\"><table style=\"width:50%\"><tr><td>H2O cluster uptime:</td>\n",
       "<td>01 secs</td></tr>\n",
       "<tr><td>H2O cluster timezone:</td>\n",
       "<td>Europe/Istanbul</td></tr>\n",
       "<tr><td>H2O data parsing timezone:</td>\n",
       "<td>UTC</td></tr>\n",
       "<tr><td>H2O cluster version:</td>\n",
       "<td>3.22.0.3</td></tr>\n",
       "<tr><td>H2O cluster version age:</td>\n",
       "<td>11 months and 6 days !!!</td></tr>\n",
       "<tr><td>H2O cluster name:</td>\n",
       "<td>H2O_from_python_dorukhan_avm2va</td></tr>\n",
       "<tr><td>H2O cluster total nodes:</td>\n",
       "<td>1</td></tr>\n",
       "<tr><td>H2O cluster free memory:</td>\n",
       "<td>13.98 Gb</td></tr>\n",
       "<tr><td>H2O cluster total cores:</td>\n",
       "<td>48</td></tr>\n",
       "<tr><td>H2O cluster allowed cores:</td>\n",
       "<td>48</td></tr>\n",
       "<tr><td>H2O cluster status:</td>\n",
       "<td>accepting new members, healthy</td></tr>\n",
       "<tr><td>H2O connection url:</td>\n",
       "<td>http://127.0.0.1:54321</td></tr>\n",
       "<tr><td>H2O connection proxy:</td>\n",
       "<td>None</td></tr>\n",
       "<tr><td>H2O internal security:</td>\n",
       "<td>False</td></tr>\n",
       "<tr><td>H2O API Extensions:</td>\n",
       "<td>XGBoost, Algos, AutoML, Core V3, Core V4</td></tr>\n",
       "<tr><td>Python version:</td>\n",
       "<td>3.6.9 final</td></tr></table></div>"
      ],
      "text/plain": [
       "--------------------------  ----------------------------------------\n",
       "H2O cluster uptime:         01 secs\n",
       "H2O cluster timezone:       Europe/Istanbul\n",
       "H2O data parsing timezone:  UTC\n",
       "H2O cluster version:        3.22.0.3\n",
       "H2O cluster version age:    11 months and 6 days !!!\n",
       "H2O cluster name:           H2O_from_python_dorukhan_avm2va\n",
       "H2O cluster total nodes:    1\n",
       "H2O cluster free memory:    13.98 Gb\n",
       "H2O cluster total cores:    48\n",
       "H2O cluster allowed cores:  48\n",
       "H2O cluster status:         accepting new members, healthy\n",
       "H2O connection url:         http://127.0.0.1:54321\n",
       "H2O connection proxy:\n",
       "H2O internal security:      False\n",
       "H2O API Extensions:         XGBoost, Algos, AutoML, Core V3, Core V4\n",
       "Python version:             3.6.9 final\n",
       "--------------------------  ----------------------------------------"
      ]
     },
     "metadata": {},
     "output_type": "display_data"
    }
   ],
   "source": [
    "h2o.init()"
   ]
  },
  {
   "cell_type": "code",
   "execution_count": 31,
   "metadata": {},
   "outputs": [
    {
     "name": "stdout",
     "output_type": "stream",
     "text": [
      "Parse progress: |█████████████████████████████████████████████████████████| 100%\n",
      "Parse progress: |█████████████████████████████████████████████████████████| 100%\n"
     ]
    }
   ],
   "source": [
    "train_data = h2o.H2OFrame(train)\n",
    "test_data = h2o.H2OFrame(test)"
   ]
  },
  {
   "cell_type": "code",
   "execution_count": 32,
   "metadata": {},
   "outputs": [],
   "source": [
    "y = 'visitors'"
   ]
  },
  {
   "cell_type": "code",
   "execution_count": 34,
   "metadata": {},
   "outputs": [],
   "source": [
    "aml = H2OAutoML(max_runtime_secs = 60, seed = 42,stopping_metric='RMSLE' ,project_name = \"restaurant_visitor_prediction\",stopping_rounds=10,nfolds=5)"
   ]
  },
  {
   "cell_type": "code",
   "execution_count": 35,
   "metadata": {},
   "outputs": [
    {
     "name": "stdout",
     "output_type": "stream",
     "text": [
      "AutoML progress: |████████████████████████████████████████████████████████| 100%\n"
     ]
    }
   ],
   "source": [
    "aml.train(y=y,training_frame=train_data)"
   ]
  },
  {
   "cell_type": "code",
   "execution_count": 36,
   "metadata": {},
   "outputs": [
    {
     "data": {
      "text/html": [
       "<table>\n",
       "<thead>\n",
       "<tr><th>model_id                                           </th><th style=\"text-align: right;\">  mean_residual_deviance</th><th style=\"text-align: right;\">     rmse</th><th style=\"text-align: right;\">       mse</th><th style=\"text-align: right;\">     mae</th><th style=\"text-align: right;\">     rmsle</th></tr>\n",
       "</thead>\n",
       "<tbody>\n",
       "<tr><td>XRT_1_AutoML_20191128_200506                       </td><td style=\"text-align: right;\">                0.281579</td><td style=\"text-align: right;\"> 0.53064 </td><td style=\"text-align: right;\">  0.281579</td><td style=\"text-align: right;\">0.393632</td><td style=\"text-align: right;\">  0.163407</td></tr>\n",
       "<tr><td>DRF_1_AutoML_20191128_200506                       </td><td style=\"text-align: right;\">                0.281934</td><td style=\"text-align: right;\"> 0.530975</td><td style=\"text-align: right;\">  0.281934</td><td style=\"text-align: right;\">0.393898</td><td style=\"text-align: right;\">  0.163507</td></tr>\n",
       "<tr><td>GLM_grid_1_AutoML_20191128_200506_model_1          </td><td style=\"text-align: right;\">                0.313381</td><td style=\"text-align: right;\"> 0.559805</td><td style=\"text-align: right;\">  0.313381</td><td style=\"text-align: right;\">0.425876</td><td style=\"text-align: right;\">  0.173442</td></tr>\n",
       "<tr><td>GLM_grid_1_AutoML_20191128_190030_model_1          </td><td style=\"text-align: right;\">              123.136   </td><td style=\"text-align: right;\">11.0967  </td><td style=\"text-align: right;\">123.136   </td><td style=\"text-align: right;\">7.11983 </td><td style=\"text-align: right;\">  0.539211</td></tr>\n",
       "<tr><td>StackedEnsemble_BestOfFamily_AutoML_20191128_190030</td><td style=\"text-align: right;\">              123.561   </td><td style=\"text-align: right;\">11.1158  </td><td style=\"text-align: right;\">123.561   </td><td style=\"text-align: right;\">7.11894 </td><td style=\"text-align: right;\">  0.540074</td></tr>\n",
       "<tr><td>StackedEnsemble_AllModels_AutoML_20191128_190030   </td><td style=\"text-align: right;\">              123.655   </td><td style=\"text-align: right;\">11.12    </td><td style=\"text-align: right;\">123.655   </td><td style=\"text-align: right;\">7.11912 </td><td style=\"text-align: right;\">  0.538872</td></tr>\n",
       "<tr><td>DeepLearning_1_AutoML_20191128_190030              </td><td style=\"text-align: right;\">              124.097   </td><td style=\"text-align: right;\">11.1399  </td><td style=\"text-align: right;\">124.097   </td><td style=\"text-align: right;\">7.10986 </td><td style=\"text-align: right;\">  0.537997</td></tr>\n",
       "<tr><td>XGBoost_grid_1_AutoML_20191128_190030_model_6      </td><td style=\"text-align: right;\">              124.561   </td><td style=\"text-align: right;\">11.1607  </td><td style=\"text-align: right;\">124.561   </td><td style=\"text-align: right;\">7.12977 </td><td style=\"text-align: right;\">  0.539703</td></tr>\n",
       "<tr><td>XGBoost_grid_1_AutoML_20191128_190030_model_7      </td><td style=\"text-align: right;\">              124.633   </td><td style=\"text-align: right;\">11.1639  </td><td style=\"text-align: right;\">124.633   </td><td style=\"text-align: right;\">7.13297 </td><td style=\"text-align: right;\">  0.539948</td></tr>\n",
       "<tr><td>DeepLearning_grid_1_AutoML_20191128_190030_model_1 </td><td style=\"text-align: right;\">              124.698   </td><td style=\"text-align: right;\">11.1668  </td><td style=\"text-align: right;\">124.698   </td><td style=\"text-align: right;\">7.12085 </td><td style=\"text-align: right;\">nan       </td></tr>\n",
       "</tbody>\n",
       "</table>"
      ]
     },
     "metadata": {},
     "output_type": "display_data"
    },
    {
     "data": {
      "text/plain": []
     },
     "execution_count": 36,
     "metadata": {},
     "output_type": "execute_result"
    }
   ],
   "source": [
    "aml.leaderboard"
   ]
  },
  {
   "cell_type": "code",
   "execution_count": 37,
   "metadata": {},
   "outputs": [
    {
     "name": "stdout",
     "output_type": "stream",
     "text": [
      "drf prediction progress: |████████████████████████████████████████████████| 100%\n"
     ]
    }
   ],
   "source": [
    "aml_pred = aml.predict(test_data)"
   ]
  },
  {
   "cell_type": "code",
   "execution_count": 38,
   "metadata": {},
   "outputs": [],
   "source": [
    "sub = pd.read_csv('../data/sample_submission.csv.gz')"
   ]
  },
  {
   "cell_type": "code",
   "execution_count": 42,
   "metadata": {},
   "outputs": [],
   "source": [
    "sub['id'] = test_df['id']\n",
    "sub['visitors'] = np.expm1(aml_pred.as_data_frame()['predict'].values)\n",
    "sub.to_csv('../data/tokaggle/aml_reg.csv',index=False)"
   ]
  },
  {
   "cell_type": "code",
   "execution_count": 43,
   "metadata": {},
   "outputs": [
    {
     "name": "stdout",
     "output_type": "stream",
     "text": [
      "Warning: Your Kaggle API key is readable by other users on this system! To fix this, you can run 'chmod 600 /home/dorukhan/.kaggle/kaggle.json'\n",
      "Warning: Looks like you're using an outdated API Version, please consider updating (server 1.5.6 / client 1.5.1.1)\n",
      "100%|███████████████████████████████████████| 1.54M/1.54M [00:03<00:00, 435kB/s]\n",
      "Successfully submitted to Recruit Restaurant Visitor Forecasting"
     ]
    }
   ],
   "source": [
    "! kaggle competitions submit -c recruit-restaurant-visitor-forecasting -f ../data/tokaggle/aml_reg.csv -m \"AutoML\""
   ]
  },
  {
   "cell_type": "code",
   "execution_count": 44,
   "metadata": {},
   "outputs": [
    {
     "name": "stdout",
     "output_type": "stream",
     "text": [
      "Warning: Your Kaggle API key is readable by other users on this system! To fix this, you can run 'chmod 600 /home/dorukhan/.kaggle/kaggle.json'\n",
      "Warning: Looks like you're using an outdated API Version, please consider updating (server 1.5.6 / client 1.5.1.1)\n",
      "fileName               date                 description                status    publicScore  privateScore  \n",
      "---------------------  -------------------  -------------------------  --------  -----------  ------------  \n",
      "aml_reg.csv            2019-11-28 17:07:47  AutoML                     complete  0.52062      0.55843       \n",
      "aml_reg.csv            2019-11-28 17:07:19  AutoML                     complete  1.64144      1.65908       \n",
      "aml_reg.csv            2019-11-28 17:04:04  AutoML                     complete  0.54418      0.57952       \n",
      "optimized_xgb_reg.csv  2019-11-28 15:26:14  Optimized XGB              complete  0.52154      0.55867       \n",
      "lgb_reg.csv            2019-11-28 14:27:19  LGBM                       complete  0.52335      0.56034       \n",
      "xgb_reg.csv            2019-11-28 14:22:30  XGB                        complete  0.52216      0.55939       \n",
      "lgb_reg.csv            2019-11-23 14:44:20  DataCamp Sess2 LGBM        complete  0.71537      0.74051       \n",
      "lgb_reg.csv            2019-11-23 14:33:14  DataCamp Sess2 LGBM        complete  0.71569      0.74065       \n",
      "lgb_reg.csv            2019-11-23 14:25:32  DataCamp Sess2 LGBM        complete  0.71097      0.72792       \n",
      "linear_reg.csv         2019-11-23 13:01:40  LinearReg session2         complete  0.57544      0.60338       \n",
      "submit_mean.csv        2019-11-23 11:38:45  Mean Submissionon 2 Sessi  complete  0.88649      0.87066       \n",
      "sample_submission.csv  2019-11-23 11:25:41  zero sub                   complete  2.91459      2.94249       \n",
      "knn_reg.csv            2019-11-23 09:44:29  DataCamp KNNReg            complete  0.57603      0.60369       \n",
      "linear_reg.csv         2019-11-23 09:38:08  LinearReg                  complete  0.57945      0.60735       \n",
      "submit_mean.csv        2019-11-23 08:03:01  Mean Submission            complete  0.88649      0.87066       \n",
      "submit_first.csv       2019-11-23 07:59:03  Mean Submission            complete  2.91459      2.94249       \n",
      "submit_first.csv       2019-11-23 07:49:10  Sample Submission          complete  2.91459      2.94249       \n",
      "lgb_reg.csv            2019-11-22 22:48:54  DataCamp LGBMReg           complete  0.52271      0.55925       \n",
      "lgb_reg.csv            2019-11-22 22:45:13  DataCamp LGBMReg           complete  21.27382     22.54037      \n",
      "knn_reg.csv            2019-11-22 22:44:46  DataCamp KNNReg            complete  0.57603      0.60369       \n"
     ]
    }
   ],
   "source": [
    "! kaggle competitions submissions -c recruit-restaurant-visitor-forecasting "
   ]
  },
  {
   "cell_type": "code",
   "execution_count": 45,
   "metadata": {},
   "outputs": [
    {
     "name": "stdout",
     "output_type": "stream",
     "text": [
      "H2O session _sid_bc8a closed.\n"
     ]
    }
   ],
   "source": [
    "h2o.cluster().shutdown()"
   ]
  },
  {
   "cell_type": "code",
   "execution_count": null,
   "metadata": {},
   "outputs": [],
   "source": []
  }
 ],
 "metadata": {
  "kernelspec": {
   "display_name": "Python 3",
   "language": "python",
   "name": "python3"
  },
  "language_info": {
   "codemirror_mode": {
    "name": "ipython",
    "version": 3
   },
   "file_extension": ".py",
   "mimetype": "text/x-python",
   "name": "python",
   "nbconvert_exporter": "python",
   "pygments_lexer": "ipython3",
   "version": "3.6.9"
  }
 },
 "nbformat": 4,
 "nbformat_minor": 4
}
